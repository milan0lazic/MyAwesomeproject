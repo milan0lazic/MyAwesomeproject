{
 "cells": [
  {
   "cell_type": "code",
   "execution_count": 7,
   "id": "5973b583",
   "metadata": {},
   "outputs": [
    {
     "name": "stdout",
     "output_type": "stream",
     "text": [
      "Hello, World!\n"
     ]
    }
   ],
   "source": [
    "print(\"Hello, World!\")"
   ]
  },
  {
   "cell_type": "code",
   "execution_count": 8,
   "id": "31105924",
   "metadata": {},
   "outputs": [
    {
     "ename": "ModuleNotFoundError",
     "evalue": "No module named 'PyPDF2'",
     "output_type": "error",
     "traceback": [
      "\u001b[1;31m---------------------------------------------------------------------------\u001b[0m",
      "\u001b[1;31mModuleNotFoundError\u001b[0m                       Traceback (most recent call last)",
      "Cell \u001b[1;32mIn[8], line 1\u001b[0m\n\u001b[1;32m----> 1\u001b[0m \u001b[38;5;28;01mimport\u001b[39;00m \u001b[38;5;21;01mPyPDF2\u001b[39;00m\n\u001b[0;32m      3\u001b[0m \u001b[38;5;66;03m# Replace 'your_file.pdf' with the path to your PDF file\u001b[39;00m\n\u001b[0;32m      4\u001b[0m pdf_file_path \u001b[38;5;241m=\u001b[39m \u001b[38;5;124m'\u001b[39m\u001b[38;5;124myour_file.pdf\u001b[39m\u001b[38;5;124m'\u001b[39m\n",
      "\u001b[1;31mModuleNotFoundError\u001b[0m: No module named 'PyPDF2'"
     ]
    }
   ],
   "source": [
    "import PyPDF2\n",
    "\n",
    "# Replace 'your_file.pdf' with the path to your PDF file\n",
    "pdf_file_path = 'your_file.pdf'\n",
    "\n",
    "with open(pdf_file_path, 'rb') as file:\n",
    "    reader = PyPDF2.PdfReader(file)\n",
    "    print(f\"Number of pages: {len(reader.pages)}\")"
   ]
  },
  {
   "cell_type": "code",
   "execution_count": null,
   "id": "a8e9d4f5",
   "metadata": {},
   "outputs": [
    {
     "name": "stdout",
     "output_type": "stream",
     "text": [
      "1 hours, 1 minutes, 5 seconds\n"
     ]
    }
   ],
   "source": [
    "def convert_seconds(seconds):\n",
    "    hours = seconds // 3600\n",
    "    minutes = (seconds % 3600) // 60\n",
    "    secs = seconds % 60\n",
    "    return hours, minutes, secs\n",
    "\n",
    "hours, minutes, secs = convert_seconds(3665)\n",
    "print(f\"{hours} hours, {minutes} minutes, {secs} seconds\")"
   ]
  },
  {
   "cell_type": "code",
   "execution_count": null,
   "id": "cb8b604a",
   "metadata": {},
   "outputs": [
    {
     "name": "stdout",
     "output_type": "stream",
     "text": [
      "False\n"
     ]
    }
   ],
   "source": [
    "def check(number):\n",
    "    if number > 11: \n",
    "        print(0)\n",
    "    elif number != 10:\n",
    "        print(1)\n",
    "    elif number >= 20 or number < 12:\n",
    "        print(\"blue\" == \"Blue\")\n",
    "    else:\n",
    "        print(3)\n",
    "        \n",
    "        \n",
    "check(10)"
   ]
  },
  {
   "cell_type": "code",
   "execution_count": null,
   "id": "a5de0fc0",
   "metadata": {},
   "outputs": [
    {
     "name": "stdout",
     "output_type": "stream",
     "text": [
      "[0, 2, 4, 6, 8]\n"
     ]
    }
   ],
   "source": [
    "sequence = range(10)\n",
    "new_list = [x for x in sequence if x % 2 == 0]\n",
    "print(new_list)"
   ]
  },
  {
   "cell_type": "code",
   "execution_count": null,
   "id": "896d6cdf",
   "metadata": {},
   "outputs": [
    {
     "name": "stdout",
     "output_type": "stream",
     "text": [
      "0\n",
      "4\n",
      "8\n",
      "12\n",
      "16\n",
      "20\n",
      "24\n",
      "28\n",
      "32\n",
      "36\n"
     ]
    }
   ],
   "source": [
    "for n in range(0,18+1,2):\n",
    "  print(n*2)"
   ]
  },
  {
   "cell_type": "code",
   "execution_count": null,
   "id": "82171338",
   "metadata": {},
   "outputs": [
    {
     "name": "stdout",
     "output_type": "stream",
     "text": [
      "Factorial called with 4\n",
      "Factorial called with 3\n",
      "Factorial called with 2\n",
      "Factorial called with 1\n",
      "Returning 1\n",
      "Returning 2 for factorial of 2\n",
      "Returning 6 for factorial of 3\n",
      "Returning 24 for factorial of 4\n"
     ]
    },
    {
     "data": {
      "text/plain": [
       "24"
      ]
     },
     "execution_count": 27,
     "metadata": {},
     "output_type": "execute_result"
    }
   ],
   "source": [
    "def factorial(n):\n",
    "  print(\"Factorial called with \" + str(n))\n",
    "  if n < 2:\n",
    "    print(\"Returning 1\")\n",
    "    return 1\n",
    "  result = n * factorial(n-1)\n",
    "  print(\"Returning \" + str(result) + \" for factorial of \" + str(n))\n",
    "  return result\n",
    "\n",
    "factorial(4)"
   ]
  },
  {
   "cell_type": "code",
   "execution_count": null,
   "id": "fe4e77af",
   "metadata": {},
   "outputs": [
    {
     "name": "stdout",
     "output_type": "stream",
     "text": [
      "Subtotal:    $     27.25\n",
      "Sales Tax:   $      1.80\n",
      "Total:       $     29.05\n"
     ]
    }
   ],
   "source": [
    "# Here are the items in the customer's basket. Each item is a tuple\n",
    "# of (item name, weight, price per pound).\n",
    "#\n",
    "basket = [\n",
    "    (\"Peaches\", 3.0, 2.99),\n",
    "    (\"Pears\", 5.0, 1.66),\n",
    "    (\"Plums\", 2.5, 3.99)\n",
    "]\n",
    "\n",
    "\n",
    "# Calculate the total price for each item (weight times price per pound)\n",
    "# and add them up to get a subtotal.\n",
    "#\n",
    "subtotal = 0.00\n",
    "for item in basket:\n",
    "    fruit, weight, unit_price = item\n",
    "    subtotal += (weight * unit_price)\n",
    "\n",
    "\n",
    "# Now calculate the sales tax and total bill.\n",
    "#\n",
    "tax_rate = 0.06625  # 6.625% sales tax in New Jersey\n",
    "tax_amt = subtotal * tax_rate\n",
    "total = subtotal + tax_amt\n",
    "\n",
    "\n",
    "# Print the receipt for the customer.\n",
    "#\n",
    "print(\"Subtotal:    ${:10,.2f}\".format(subtotal))\n",
    "print(\"Sales Tax:   ${:10,.2f}\".format(tax_amt))\n",
    "print(\"Total:       ${:10,.2f}\".format(total))"
   ]
  },
  {
   "cell_type": "code",
   "execution_count": null,
   "id": "025703ef",
   "metadata": {},
   "outputs": [
    {
     "name": "stdout",
     "output_type": "stream",
     "text": [
      "True\n",
      "False\n",
      "True\n"
     ]
    }
   ],
   "source": [
    "def is_palindrome(input_string):\n",
    "    # Two variables are initialized as string date types using empty \n",
    "    # quotes: \"reverse_string\" to hold the \"input_string\" in reverse\n",
    "    # order and \"new_string\" to hold the \"input_string\" minus the \n",
    "    # spaces between words, if any are found.\n",
    "    new_string = \"\"\n",
    "    reverse_string = \"\"\n",
    "\n",
    "    # Complete the for loop to iterate through each letter of the\n",
    "    # \"input_string\"\n",
    "    for letter in input_string.lower():\n",
    "\n",
    "        # The if-statement checks if the \"letter\" is not a space.\n",
    "        if letter != \" \":\n",
    "\n",
    "            # If True, add the \"letter\" to the end of \"new_string\" and\n",
    "            # to the front of \"reverse_string\". If False (if a space\n",
    "            # is detected), no action is needed. Exit the if-block.\n",
    "            new_string += letter\n",
    "            reverse_string = letter + reverse_string\n",
    "\n",
    "    # Complete the if-statement to compare the \"new_string\" to the\n",
    "    # \"reverse_string\". Remember that Python is case-sensitive when\n",
    "    # creating the string comparison code. \n",
    "    if new_string == reverse_string:\n",
    "\n",
    "        # If True, the \"input_string\" contains a palindrome.\n",
    "        return True\n",
    "\t\t\n",
    "    # Otherwise, return False.\n",
    "    return False\n",
    "\n",
    "\n",
    "print(is_palindrome(\"Never Odd or Even\")) # Should be True\n",
    "print(is_palindrome(\"abc\")) # Should be False\n",
    "print(is_palindrome(\"kayak\")) # Should be True"
   ]
  },
  {
   "cell_type": "code",
   "execution_count": null,
   "id": "fd7035fc",
   "metadata": {},
   "outputs": [
    {
     "name": "stdout",
     "output_type": "stream",
     "text": [
      "12 miles equals 19.20 km\n",
      "5.5 miles equals 8.80 km\n",
      "11 miles equals 17.60 km\n"
     ]
    }
   ],
   "source": [
    "def convert_distance(miles):\n",
    "    km = miles * 1.6 \n",
    "    result = \"{} miles equals {:.2f} km\".format(miles, km)\n",
    "    return result\n",
    "\n",
    "\n",
    "print(convert_distance(12)) # Should be: 12 miles equals 19.2 km\n",
    "print(convert_distance(5.5)) # Should be: 5.5 miles equals 8.8 km\n",
    "print(convert_distance(11)) # Should be: 11 miles equals 17.6 km"
   ]
  },
  {
   "cell_type": "code",
   "execution_count": null,
   "id": "08079d1a",
   "metadata": {},
   "outputs": [
    {
     "name": "stdout",
     "output_type": "stream",
     "text": [
      "Rain\n"
     ]
    }
   ],
   "source": [
    "Weather = \"Rainfall\"\n",
    "print(Weather[:4])"
   ]
  },
  {
   "cell_type": "code",
   "execution_count": null,
   "id": "e54300ff",
   "metadata": {},
   "outputs": [],
   "source": [
    "def replace_ending(sentence, old, new):\n",
    "    # Check if the old substring is at the end of the sentence \n",
    "    if sentence.endswith(old):\n",
    "        # Using i as the slicing index, combine the part\n",
    "        # of the sentence up to the matched string at the \n",
    "        # end with the new string\n",
    "        i = len(sentence) - len(old)\n",
    "        new_sentence = sentence[:i] + new\n",
    "        return new_sentence\n",
    "    \n",
    "    # Return the original sentence if there is no match \n",
    "    return sentence\n",
    "    \n",
    "print(replace_ending(\"It's raining cats and cats\", \"cats\", \"dogs\")) \n",
    "# Should display \"It's raining cats and dogs\"\n",
    "print(replace_ending(\"She sells seashells by the seashore\", \"seashells\", \"donuts\")) \n",
    "# Should display \"She sells seashells by the seashore\"\n",
    "print(replace_ending(\"The weather is nice in May\", \"may\", \"april\")) \n",
    "# Should display \"The weather is nice in May\"\n",
    "print(replace_ending(\"The weather is nice in May\", \"May\", \"April\")) \n",
    "# Should display \"The weather is nice in April\"\n"
   ]
  },
  {
   "cell_type": "code",
   "execution_count": null,
   "id": "59b5b98c",
   "metadata": {},
   "outputs": [
    {
     "data": {
      "text/plain": [
       "3"
      ]
     },
     "execution_count": 3,
     "metadata": {},
     "output_type": "execute_result"
    }
   ],
   "source": [
    "x = [\"Now\", \"we\", \"are\", \"cooking!\"]\n",
    "type(x)\n",
    "len(x[0])\n"
   ]
  },
  {
   "cell_type": "code",
   "execution_count": 12,
   "id": "6bc73a39",
   "metadata": {},
   "outputs": [
    {
     "name": "stdout",
     "output_type": "stream",
     "text": [
      "lesson\n"
     ]
    }
   ],
   "source": [
    "def get_word(sentence, n):\n",
    "\t# Only proceed if n is positive \n",
    "\tif n > 0:\n",
    "\t\twords = sentence.split()\n",
    "\t\t# Only proceed if n is not more than the number of words \n",
    "\t\tif n <= len(words):\n",
    "\t\t\treturn(words[n-1])\n",
    "\treturn(\"\")\n",
    "\n",
    "print(get_word(\"This is a lesson about lists\", 4)) # Should print: lesson"
   ]
  },
  {
   "cell_type": "code",
   "execution_count": 13,
   "id": "36deba52",
   "metadata": {},
   "outputs": [
    {
     "data": {
      "text/plain": [
       "tuple"
      ]
     },
     "execution_count": 13,
     "metadata": {},
     "output_type": "execute_result"
    }
   ],
   "source": [
    "def convert_seconds(seconds):\n",
    "  hours = seconds // 3600\n",
    "  minutes = (seconds - hours * 3600) // 60\n",
    "  remaining_seconds = seconds - hours * 3600 - minutes * 60\n",
    "  return hours, minutes, remaining_seconds\n",
    "result = convert_seconds(5000)\n",
    "type(result)"
   ]
  },
  {
   "cell_type": "code",
   "execution_count": 14,
   "id": "758cefd1",
   "metadata": {},
   "outputs": [
    {
     "name": "stdout",
     "output_type": "stream",
     "text": [
      "Total characters: 22, Average length: 5.5\n"
     ]
    }
   ],
   "source": [
    "animals = [\"Lion\", \"Zebra\", \"Dolphin\", \"Monkey\"]\n",
    "chars = 0\n",
    "for animal in animals:\n",
    "  chars += len(animal)\n",
    "\n",
    "print(\"Total characters: {}, Average length: {}\".format(chars, chars/len(animals)))"
   ]
  },
  {
   "cell_type": "code",
   "execution_count": 15,
   "id": "0793abda",
   "metadata": {},
   "outputs": [
    {
     "name": "stdout",
     "output_type": "stream",
     "text": [
      "1 - Alice\n",
      "2 - Bob\n",
      "3 - Charlie\n"
     ]
    }
   ],
   "source": [
    "winners = [\"Alice\", \"Bob\", \"Charlie\"]\n",
    "for index, person in enumerate(winners):\n",
    "    print(\"{} - {}\".format(index+1, person))\n",
    "    "
   ]
  },
  {
   "cell_type": "code",
   "execution_count": 16,
   "id": "70912ff6",
   "metadata": {},
   "outputs": [
    {
     "name": "stdout",
     "output_type": "stream",
     "text": [
      "['Alice <alice@example.com>', 'Bob <bob@example.com>', 'Charlie <charlie@example.com>']\n"
     ]
    }
   ],
   "source": [
    "def full_emails(people):\n",
    "    result = []\n",
    "    for email, name in people:\n",
    "        result.append(\"{} <{}>\".format(name, email))\n",
    "    return result\n",
    "\n",
    "print(full_emails([(\"alice@example.com\", \"Alice\"), (\"bob@example.com\", \"Bob\"), (\"charlie@example.com\", \"Charlie\")]))\n"
   ]
  },
  {
   "cell_type": "code",
   "execution_count": null,
   "id": "09b68d2c",
   "metadata": {},
   "outputs": [
    {
     "name": "stdout",
     "output_type": "stream",
     "text": [
      "[7, 14, 21, 28, 35, 42, 49, 56, 63, 70]\n"
     ]
    }
   ],
   "source": [
    "multiples = [x*7 for x in range(1,11)]\n",
    "print(multiples)\n"
   ]
  },
  {
   "cell_type": "code",
   "execution_count": null,
   "id": "845ec0ec",
   "metadata": {},
   "outputs": [
    {
     "name": "stdout",
     "output_type": "stream",
     "text": [
      "[6, 4, 4, 3, 4]\n"
     ]
    }
   ],
   "source": [
    "# list comprehension with strings\n",
    "languages = [\"Python\", \"Perl\", \"Java\", \"C++\", \"Ruby\"]\n",
    "lengths = [len(x) for x in languages]\n",
    "print(lengths)"
   ]
  },
  {
   "cell_type": "code",
   "execution_count": null,
   "id": "95804c0c",
   "metadata": {},
   "outputs": [
    {
     "name": "stdout",
     "output_type": "stream",
     "text": [
      "[12, 24, 36, 48, 60, 72, 84, 96]\n"
     ]
    }
   ],
   "source": [
    "# List comprehension with a conditional\n",
    "z = [x for x in range(1, 101) if x % 12 == 0 ]\n",
    "print(z)"
   ]
  },
  {
   "cell_type": "code",
   "execution_count": null,
   "id": "1fbeb72b",
   "metadata": {},
   "outputs": [],
   "source": [
    "def squares(start, end):\n",
    "    return [x**2 for x in range(start, end+1)]\n",
    "\n",
    "print(squares(2, 3))    # Should print [4, 9]\n",
    "print(squares(1, 5))    # Should print [1, 4, 9, 16, 25]\n",
    "print(squares(0, 10))   # Should print [0, 1, 4, 9, 16, 25, 36, 49, 64, 81, 100]"
   ]
  },
  {
   "cell_type": "code",
   "execution_count": 27,
   "id": "9cb58602",
   "metadata": {},
   "outputs": [
    {
     "name": "stdout",
     "output_type": "stream",
     "text": [
      "['program.c', 'stdio.h', 'sample.h', 'a.out', 'math.h', 'hpp.out']\n"
     ]
    }
   ],
   "source": [
    "filenames = [\"program.c\", \"stdio.hpp\", \"sample.hpp\", \"a.out\", \"math.hpp\", \"hpp.out\"]\n",
    "# Generate new_filenames as a list containing the new filenames\n",
    "# using as many lines of code as your chosen method requires.\n",
    "\n",
    "\n",
    "new_filenames = []\n",
    "for filename in filenames:\n",
    "    if filename.endswith(\"hpp\"):\n",
    "        new_filenames.append(filename[:-2])\n",
    "    else:\n",
    "        new_filenames.append(filename)\n",
    "\n",
    "\n",
    "print(new_filenames)\n",
    "# Should be [\"program.c\", \"stdio.h\", \"sample.h\", \"a.out\", \"math.h\", \"hpp.out\"]"
   ]
  },
  {
   "cell_type": "code",
   "execution_count": null,
   "id": "31c80491",
   "metadata": {},
   "outputs": [
    {
     "name": "stdout",
     "output_type": "stream",
     "text": [
      "['program.c', 'stdio.h', 'sample.h', 'a.out', 'math.h', 'hpp.out']\n"
     ]
    }
   ],
   "source": [
    "filenames = [\"program.c\", \"stdio.hpp\", \"sample.hpp\", \"a.out\", \"math.hpp\", \"hpp.out\"]\n",
    "# Generate new_filenames as a list containing the new filenames\n",
    "# using as many lines of code as your chosen method requires.\n",
    "new_filenames = [f[:-2] if f.endswith(\"hpp\") else f for f in filenames]\n",
    "\n",
    "print(new_filenames) \n",
    "# Should print [\"program.c\", \"stdio.h\", \"sample.h\", \"a.out\", \"math.h\", \"hpp.out\"]"
   ]
  },
  {
   "cell_type": "code",
   "execution_count": 32,
   "id": "16082264",
   "metadata": {},
   "outputs": [
    {
     "name": "stdout",
     "output_type": "stream",
     "text": [
      "ouyay\n",
      "unfay\n"
     ]
    }
   ],
   "source": [
    "def pig_latin(text):\n",
    "  say = \"\"\n",
    "  # Separate the text into words\n",
    "  words = text.split()\n",
    "  for word in words:\n",
    "    # Create the pig latin word and add it to the list\n",
    "    say = word[1:] + word[0] + \"ay\"\n",
    "    # Turn the list back into a phrase\n",
    "  return say\n",
    "    \n",
    "print(pig_latin(\"hello how are you\")) # Should be \"ellohay owhay reaay ouyay\"\n",
    "print(pig_latin(\"programming in python is fun\")) # Should be \"rogrammingpay niay ythonpay siay unfay\""
   ]
  },
  {
   "cell_type": "code",
   "execution_count": 42,
   "id": "1752e0cc",
   "metadata": {},
   "outputs": [
    {
     "name": "stdout",
     "output_type": "stream",
     "text": [
      "There are 10 files with the .jpg extension.\n",
      "There are 14 files with the .txt extension.\n",
      "There are 2 files with the .csv extension.\n",
      "There are 23 files with the .py extension.\n"
     ]
    }
   ],
   "source": [
    "file_counts = {\"jpg\":10, \"txt\":14, \"csv\":2, \"py\":23}\n",
    "#file_counts[\"txt\"]\n",
    "#\"jpg\" in file_counts\n",
    "#file_counts[\"cfg\"] = 8\n",
    "#file_counts[\"csv\"] += 1\n",
    "for extension, amount in file_counts.items():\n",
    "    print(\"There are {} files with the .{} extension.\".format(amount, extension))"
   ]
  },
  {
   "cell_type": "code",
   "execution_count": 43,
   "id": "93a3bb40",
   "metadata": {},
   "outputs": [
    {
     "data": {
      "text/plain": [
       "{'t': 2, 'e': 1, 'n': 2, 'a': 1}"
      ]
     },
     "execution_count": 43,
     "metadata": {},
     "output_type": "execute_result"
    }
   ],
   "source": [
    "def count_letters(text):\n",
    "  result = {}\n",
    "  for letter in text:\n",
    "    if letter not in result:\n",
    "      result[letter] = 0\n",
    "    result[letter] += 1\n",
    "  return result\n",
    "#count_letters(\"aaaaa\")\n",
    "count_letters(\"tenant\")\n",
    "#count_letters(\"a long string with a lot of letters\")"
   ]
  }
 ],
 "metadata": {
  "kernelspec": {
   "display_name": "Python 3",
   "language": "python",
   "name": "python3"
  },
  "language_info": {
   "codemirror_mode": {
    "name": "ipython",
    "version": 3
   },
   "file_extension": ".py",
   "mimetype": "text/x-python",
   "name": "python",
   "nbconvert_exporter": "python",
   "pygments_lexer": "ipython3",
   "version": "3.11.4"
  }
 },
 "nbformat": 4,
 "nbformat_minor": 5
}
